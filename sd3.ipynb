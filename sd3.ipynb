{
 "cells": [
  {
   "cell_type": "code",
   "execution_count": null,
   "id": "c85b0b11-ac41-4b97-bc09-4c1ed6dd8fb8",
   "metadata": {
    "tags": []
   },
   "outputs": [],
   "source": [
    "import torch\n",
    "from diffusers import StableDiffusion3Pipeline\n",
    "\n",
    "pipe = StableDiffusion3Pipeline.from_pretrained(\n",
    "    \"stabilityai/stable-diffusion-3-medium-diffusers\",\n",
    "    text_encoder_3=None, \n",
    "    tokenizer_3=None, \n",
    "    torch_dtype=torch.float16\n",
    ").to(\"cuda\")"
   ]
  },
  {
   "cell_type": "code",
   "execution_count": 22,
   "id": "597383b6-5a98-4c02-9a15-46c5e1f4e06c",
   "metadata": {},
   "outputs": [],
   "source": [
    "from flask import Flask, request, jsonify\n",
    "import base64\n",
    "from io import BytesIO\n",
    "from pyngrok import ngrok\n",
    "from flask_cors import CORS\n",
    "\n",
    "ngrok.set_auth_token(\"2kVQ0Nk1UdUUjh3mPXYThqj8nm1_6Bdvq4178vEtSfAiYVGqf\")\n",
    "\n",
    "app = Flask(__name__)"
   ]
  },
  {
   "cell_type": "code",
   "execution_count": null,
   "id": "fa73e17b-a5ea-49e7-9ba6-5198c9139336",
   "metadata": {
    "tags": []
   },
   "outputs": [
    {
     "name": "stdout",
     "output_type": "stream",
     "text": [
      " * ngrok tunnel \"NgrokTunnel: \"https://3811-3-20-229-229.ngrok-free.app\" -> \"http://localhost:5000\"\" -> \"http://127.0.0.1:5000/\"\n",
      " * Serving Flask app '__main__'\n",
      " * Debug mode: off\n"
     ]
    },
    {
     "name": "stderr",
     "output_type": "stream",
     "text": [
      "\u001b[31m\u001b[1mWARNING: This is a development server. Do not use it in a production deployment. Use a production WSGI server instead.\u001b[0m\n",
      " * Running on http://127.0.0.1:5000\n",
      "\u001b[33mPress CTRL+C to quit\u001b[0m\n",
      "Token indices sequence length is longer than the specified maximum sequence length for this model (126 > 77). Running this sequence through the model will result in indexing errors\n",
      "The following part of your input was truncated because CLIP can only handle sequences up to 77 tokens: ['dressed in a flowing white dress, adding to the serene and peaceful atmosphere. her expression is one of calm and contemplation as she gazes at the breathtaking sunset. the scene is surrounded by lush green trees and distant mountains, completing the picturesque setting']\n",
      "Token indices sequence length is longer than the specified maximum sequence length for this model (126 > 77). Running this sequence through the model will result in indexing errors\n",
      "The following part of your input was truncated because CLIP can only handle sequences up to 77 tokens: ['dressed in a flowing white dress, adding to the serene and peaceful atmosphere. her expression is one of calm and contemplation as she gazes at the breathtaking sunset. the scene is surrounded by lush green trees and distant mountains, completing the picturesque setting']\n"
     ]
    },
    {
     "data": {
      "application/vnd.jupyter.widget-view+json": {
       "model_id": "521175cf5f8e4222ace644c7ec1ce9d8",
       "version_major": 2,
       "version_minor": 0
      },
      "text/plain": [
       "  0%|          | 0/33 [00:00<?, ?it/s]"
      ]
     },
     "metadata": {},
     "output_type": "display_data"
    },
    {
     "name": "stderr",
     "output_type": "stream",
     "text": [
      "127.0.0.1 - - [18/Aug/2024 14:46:20] \"POST /generate-image HTTP/1.1\" 200 -\n",
      "The following part of your input was truncated because CLIP can only handle sequences up to 77 tokens: ['of mystery and allure']\n",
      "The following part of your input was truncated because CLIP can only handle sequences up to 77 tokens: ['of mystery and allure']\n"
     ]
    },
    {
     "data": {
      "application/vnd.jupyter.widget-view+json": {
       "model_id": "29ea5ff20d7f49e9b764492b57339a45",
       "version_major": 2,
       "version_minor": 0
      },
      "text/plain": [
       "  0%|          | 0/33 [00:00<?, ?it/s]"
      ]
     },
     "metadata": {},
     "output_type": "display_data"
    },
    {
     "name": "stderr",
     "output_type": "stream",
     "text": [
      "127.0.0.1 - - [18/Aug/2024 15:00:54] \"POST /generate-image HTTP/1.1\" 200 -\n",
      "The following part of your input was truncated because CLIP can only handle sequences up to 77 tokens: ['of mystery and allure']\n",
      "The following part of your input was truncated because CLIP can only handle sequences up to 77 tokens: ['of mystery and allure']\n"
     ]
    },
    {
     "data": {
      "application/vnd.jupyter.widget-view+json": {
       "model_id": "4614ed627f074121941f4f0af214d099",
       "version_major": 2,
       "version_minor": 0
      },
      "text/plain": [
       "  0%|          | 0/33 [00:00<?, ?it/s]"
      ]
     },
     "metadata": {},
     "output_type": "display_data"
    },
    {
     "name": "stderr",
     "output_type": "stream",
     "text": [
      "127.0.0.1 - - [18/Aug/2024 15:02:01] \"POST /generate-image HTTP/1.1\" 200 -\n",
      "The following part of your input was truncated because CLIP can only handle sequences up to 77 tokens: ['of mystery and allure']\n",
      "The following part of your input was truncated because CLIP can only handle sequences up to 77 tokens: ['of mystery and allure']\n"
     ]
    },
    {
     "data": {
      "application/vnd.jupyter.widget-view+json": {
       "model_id": "c2079f68f5594e7496cd8c5d5b6a587b",
       "version_major": 2,
       "version_minor": 0
      },
      "text/plain": [
       "  0%|          | 0/33 [00:00<?, ?it/s]"
      ]
     },
     "metadata": {},
     "output_type": "display_data"
    },
    {
     "name": "stderr",
     "output_type": "stream",
     "text": [
      "127.0.0.1 - - [18/Aug/2024 15:03:22] \"POST /generate-image HTTP/1.1\" 200 -\n",
      "The following part of your input was truncated because CLIP can only handle sequences up to 77 tokens: ['a sense of intense action and danger, capturing the essence of a high - stakes battle scene']\n",
      "The following part of your input was truncated because CLIP can only handle sequences up to 77 tokens: ['a sense of intense action and danger, capturing the essence of a high - stakes battle scene']\n"
     ]
    },
    {
     "data": {
      "application/vnd.jupyter.widget-view+json": {
       "model_id": "059335f96019486f9b5156cb4396b945",
       "version_major": 2,
       "version_minor": 0
      },
      "text/plain": [
       "  0%|          | 0/33 [00:00<?, ?it/s]"
      ]
     },
     "metadata": {},
     "output_type": "display_data"
    },
    {
     "name": "stderr",
     "output_type": "stream",
     "text": [
      "127.0.0.1 - - [18/Aug/2024 15:06:10] \"POST /generate-image HTTP/1.1\" 200 -\n",
      "The following part of your input was truncated because CLIP can only handle sequences up to 77 tokens: ['a sense of intense action and danger, capturing the essence of a high - stakes battle scene']\n",
      "The following part of your input was truncated because CLIP can only handle sequences up to 77 tokens: ['a sense of intense action and danger, capturing the essence of a high - stakes battle scene']\n"
     ]
    },
    {
     "data": {
      "application/vnd.jupyter.widget-view+json": {
       "model_id": "ca9a1d357e764846ac82426666e7e6f6",
       "version_major": 2,
       "version_minor": 0
      },
      "text/plain": [
       "  0%|          | 0/33 [00:00<?, ?it/s]"
      ]
     },
     "metadata": {},
     "output_type": "display_data"
    },
    {
     "name": "stderr",
     "output_type": "stream",
     "text": [
      "127.0.0.1 - - [18/Aug/2024 15:07:05] \"POST /generate-image HTTP/1.1\" 200 -\n"
     ]
    },
    {
     "data": {
      "application/vnd.jupyter.widget-view+json": {
       "model_id": "106c344fafe44993bf0125fbcd468de1",
       "version_major": 2,
       "version_minor": 0
      },
      "text/plain": [
       "  0%|          | 0/33 [00:00<?, ?it/s]"
      ]
     },
     "metadata": {},
     "output_type": "display_data"
    },
    {
     "name": "stderr",
     "output_type": "stream",
     "text": [
      "127.0.0.1 - - [18/Aug/2024 15:08:50] \"POST /generate-image HTTP/1.1\" 200 -\n"
     ]
    },
    {
     "data": {
      "application/vnd.jupyter.widget-view+json": {
       "model_id": "7e4909a1b2434a91ae7328d15598bb77",
       "version_major": 2,
       "version_minor": 0
      },
      "text/plain": [
       "  0%|          | 0/33 [00:00<?, ?it/s]"
      ]
     },
     "metadata": {},
     "output_type": "display_data"
    },
    {
     "name": "stderr",
     "output_type": "stream",
     "text": [
      "127.0.0.1 - - [18/Aug/2024 15:09:45] \"POST /generate-image HTTP/1.1\" 200 -\n"
     ]
    },
    {
     "data": {
      "application/vnd.jupyter.widget-view+json": {
       "model_id": "bc90bfe67ea2455f9b4ce79df86bbef8",
       "version_major": 2,
       "version_minor": 0
      },
      "text/plain": [
       "  0%|          | 0/33 [00:00<?, ?it/s]"
      ]
     },
     "metadata": {},
     "output_type": "display_data"
    },
    {
     "name": "stderr",
     "output_type": "stream",
     "text": [
      "127.0.0.1 - - [18/Aug/2024 15:10:42] \"POST /generate-image HTTP/1.1\" 200 -\n"
     ]
    },
    {
     "data": {
      "application/vnd.jupyter.widget-view+json": {
       "model_id": "813b93aed150401e95b71b50a0602a75",
       "version_major": 2,
       "version_minor": 0
      },
      "text/plain": [
       "  0%|          | 0/33 [00:00<?, ?it/s]"
      ]
     },
     "metadata": {},
     "output_type": "display_data"
    }
   ],
   "source": [
    "@app.route('/generate-image', methods=['POST'])\n",
    "def generate_image():\n",
    "    data = request.json\n",
    "    prompt = data.get('prompt')\n",
    "    negative_prompt = data.get('negative_prompt', \"blurry, missing arms, distorted, disfigured, deformed, missing legs, ,cartoon, bad quality, low resolution, deformed fingers, deformed legs, ugly, bad lighting, bad eyes, bad anatomy, over brightness, bad shadows, bad nose, deformed face\")\n",
    "    num_inference_steps = data.get('num_inference_steps', 33)\n",
    "    guidance_scale = data.get('guidance_scale', 6)\n",
    "\n",
    "    if not prompt:\n",
    "        return jsonify({\"error\": \"Prompt is required\"}), 400\n",
    "\n",
    "    with torch.autocast(\"cuda\"):\n",
    "        generated_image = pipe(\n",
    "            prompt, \n",
    "            negative_prompt=negative_prompt, \n",
    "            num_inference_steps=num_inference_steps, \n",
    "            guidance_scale=guidance_scale\n",
    "        ).images[0]\n",
    "\n",
    "    buffered = BytesIO()\n",
    "    generated_image.save(buffered, format=\"PNG\")\n",
    "    img_str = base64.b64encode(buffered.getvalue()).decode(\"utf-8\")\n",
    "\n",
    "    return jsonify({\"image_data\": img_str})\n",
    "\n",
    "# Start ngrok tunnel\n",
    "public_url = ngrok.connect(5000)\n",
    "print(f\" * ngrok tunnel \\\"{public_url}\\\" -> \\\"http://127.0.0.1:5000/\\\"\")\n",
    "\n",
    "if __name__ == '__main__':\n",
    "    app.run()\n"
   ]
  },
  {
   "cell_type": "code",
   "execution_count": null,
   "id": "0f71a9db-84f0-4203-8628-ebeb93cbcebc",
   "metadata": {},
   "outputs": [],
   "source": []
  }
 ],
 "metadata": {
  "kernelspec": {
   "display_name": ".conda-default:Python",
   "language": "python",
   "name": "conda-env-.conda-default-py"
  },
  "language_info": {
   "codemirror_mode": {
    "name": "ipython",
    "version": 3
   },
   "file_extension": ".py",
   "mimetype": "text/x-python",
   "name": "python",
   "nbconvert_exporter": "python",
   "pygments_lexer": "ipython3",
   "version": "3.9.19"
  }
 },
 "nbformat": 4,
 "nbformat_minor": 5
}
